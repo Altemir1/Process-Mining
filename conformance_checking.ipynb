{
  "nbformat": 4,
  "nbformat_minor": 0,
  "metadata": {
    "colab": {
      "provenance": [],
      "toc_visible": true,
      "authorship_tag": "ABX9TyPLbgA+gMh34X0mugPMiz15",
      "include_colab_link": true
    },
    "kernelspec": {
      "name": "python3",
      "display_name": "Python 3"
    },
    "language_info": {
      "name": "python"
    },
    "widgets": {
      "application/vnd.jupyter.widget-state+json": {
        "2f16874706214b499556b5e1b8d5b8c4": {
          "model_module": "@jupyter-widgets/controls",
          "model_name": "HBoxModel",
          "model_module_version": "1.5.0",
          "state": {
            "_dom_classes": [],
            "_model_module": "@jupyter-widgets/controls",
            "_model_module_version": "1.5.0",
            "_model_name": "HBoxModel",
            "_view_count": null,
            "_view_module": "@jupyter-widgets/controls",
            "_view_module_version": "1.5.0",
            "_view_name": "HBoxView",
            "box_style": "",
            "children": [
              "IPY_MODEL_a93229b0a5904186b5782538d7c3dc26",
              "IPY_MODEL_65874acb790e4d2b9ae379ac18f68ae9",
              "IPY_MODEL_4bfb211063cc4ef784408c04ab03e032"
            ],
            "layout": "IPY_MODEL_197843b0957b42cb87b282265c61458e"
          }
        },
        "a93229b0a5904186b5782538d7c3dc26": {
          "model_module": "@jupyter-widgets/controls",
          "model_name": "HTMLModel",
          "model_module_version": "1.5.0",
          "state": {
            "_dom_classes": [],
            "_model_module": "@jupyter-widgets/controls",
            "_model_module_version": "1.5.0",
            "_model_name": "HTMLModel",
            "_view_count": null,
            "_view_module": "@jupyter-widgets/controls",
            "_view_module_version": "1.5.0",
            "_view_name": "HTMLView",
            "description": "",
            "description_tooltip": null,
            "layout": "IPY_MODEL_2860957a60d549cf82fa483879916ce1",
            "placeholder": "​",
            "style": "IPY_MODEL_1deb9ba5c23049f69cf17584a6f6d8da",
            "value": "replaying log with TBR, completed traces :: 100%"
          }
        },
        "65874acb790e4d2b9ae379ac18f68ae9": {
          "model_module": "@jupyter-widgets/controls",
          "model_name": "FloatProgressModel",
          "model_module_version": "1.5.0",
          "state": {
            "_dom_classes": [],
            "_model_module": "@jupyter-widgets/controls",
            "_model_module_version": "1.5.0",
            "_model_name": "FloatProgressModel",
            "_view_count": null,
            "_view_module": "@jupyter-widgets/controls",
            "_view_module_version": "1.5.0",
            "_view_name": "ProgressView",
            "bar_style": "success",
            "description": "",
            "description_tooltip": null,
            "layout": "IPY_MODEL_571a9ebb13dc4952b57e495eb38713e5",
            "max": 19,
            "min": 0,
            "orientation": "horizontal",
            "style": "IPY_MODEL_884ece23e3184338be2edac148c6dfcc",
            "value": 19
          }
        },
        "4bfb211063cc4ef784408c04ab03e032": {
          "model_module": "@jupyter-widgets/controls",
          "model_name": "HTMLModel",
          "model_module_version": "1.5.0",
          "state": {
            "_dom_classes": [],
            "_model_module": "@jupyter-widgets/controls",
            "_model_module_version": "1.5.0",
            "_model_name": "HTMLModel",
            "_view_count": null,
            "_view_module": "@jupyter-widgets/controls",
            "_view_module_version": "1.5.0",
            "_view_name": "HTMLView",
            "description": "",
            "description_tooltip": null,
            "layout": "IPY_MODEL_4e6b2fe9cbb34f5396b471f409d12893",
            "placeholder": "​",
            "style": "IPY_MODEL_b1638d299df3495096bd95c9c60e74db",
            "value": " 19/19 [00:00&lt;00:00, 427.58it/s]"
          }
        },
        "197843b0957b42cb87b282265c61458e": {
          "model_module": "@jupyter-widgets/base",
          "model_name": "LayoutModel",
          "model_module_version": "1.2.0",
          "state": {
            "_model_module": "@jupyter-widgets/base",
            "_model_module_version": "1.2.0",
            "_model_name": "LayoutModel",
            "_view_count": null,
            "_view_module": "@jupyter-widgets/base",
            "_view_module_version": "1.2.0",
            "_view_name": "LayoutView",
            "align_content": null,
            "align_items": null,
            "align_self": null,
            "border": null,
            "bottom": null,
            "display": null,
            "flex": null,
            "flex_flow": null,
            "grid_area": null,
            "grid_auto_columns": null,
            "grid_auto_flow": null,
            "grid_auto_rows": null,
            "grid_column": null,
            "grid_gap": null,
            "grid_row": null,
            "grid_template_areas": null,
            "grid_template_columns": null,
            "grid_template_rows": null,
            "height": null,
            "justify_content": null,
            "justify_items": null,
            "left": null,
            "margin": null,
            "max_height": null,
            "max_width": null,
            "min_height": null,
            "min_width": null,
            "object_fit": null,
            "object_position": null,
            "order": null,
            "overflow": null,
            "overflow_x": null,
            "overflow_y": null,
            "padding": null,
            "right": null,
            "top": null,
            "visibility": null,
            "width": null
          }
        },
        "2860957a60d549cf82fa483879916ce1": {
          "model_module": "@jupyter-widgets/base",
          "model_name": "LayoutModel",
          "model_module_version": "1.2.0",
          "state": {
            "_model_module": "@jupyter-widgets/base",
            "_model_module_version": "1.2.0",
            "_model_name": "LayoutModel",
            "_view_count": null,
            "_view_module": "@jupyter-widgets/base",
            "_view_module_version": "1.2.0",
            "_view_name": "LayoutView",
            "align_content": null,
            "align_items": null,
            "align_self": null,
            "border": null,
            "bottom": null,
            "display": null,
            "flex": null,
            "flex_flow": null,
            "grid_area": null,
            "grid_auto_columns": null,
            "grid_auto_flow": null,
            "grid_auto_rows": null,
            "grid_column": null,
            "grid_gap": null,
            "grid_row": null,
            "grid_template_areas": null,
            "grid_template_columns": null,
            "grid_template_rows": null,
            "height": null,
            "justify_content": null,
            "justify_items": null,
            "left": null,
            "margin": null,
            "max_height": null,
            "max_width": null,
            "min_height": null,
            "min_width": null,
            "object_fit": null,
            "object_position": null,
            "order": null,
            "overflow": null,
            "overflow_x": null,
            "overflow_y": null,
            "padding": null,
            "right": null,
            "top": null,
            "visibility": null,
            "width": null
          }
        },
        "1deb9ba5c23049f69cf17584a6f6d8da": {
          "model_module": "@jupyter-widgets/controls",
          "model_name": "DescriptionStyleModel",
          "model_module_version": "1.5.0",
          "state": {
            "_model_module": "@jupyter-widgets/controls",
            "_model_module_version": "1.5.0",
            "_model_name": "DescriptionStyleModel",
            "_view_count": null,
            "_view_module": "@jupyter-widgets/base",
            "_view_module_version": "1.2.0",
            "_view_name": "StyleView",
            "description_width": ""
          }
        },
        "571a9ebb13dc4952b57e495eb38713e5": {
          "model_module": "@jupyter-widgets/base",
          "model_name": "LayoutModel",
          "model_module_version": "1.2.0",
          "state": {
            "_model_module": "@jupyter-widgets/base",
            "_model_module_version": "1.2.0",
            "_model_name": "LayoutModel",
            "_view_count": null,
            "_view_module": "@jupyter-widgets/base",
            "_view_module_version": "1.2.0",
            "_view_name": "LayoutView",
            "align_content": null,
            "align_items": null,
            "align_self": null,
            "border": null,
            "bottom": null,
            "display": null,
            "flex": null,
            "flex_flow": null,
            "grid_area": null,
            "grid_auto_columns": null,
            "grid_auto_flow": null,
            "grid_auto_rows": null,
            "grid_column": null,
            "grid_gap": null,
            "grid_row": null,
            "grid_template_areas": null,
            "grid_template_columns": null,
            "grid_template_rows": null,
            "height": null,
            "justify_content": null,
            "justify_items": null,
            "left": null,
            "margin": null,
            "max_height": null,
            "max_width": null,
            "min_height": null,
            "min_width": null,
            "object_fit": null,
            "object_position": null,
            "order": null,
            "overflow": null,
            "overflow_x": null,
            "overflow_y": null,
            "padding": null,
            "right": null,
            "top": null,
            "visibility": null,
            "width": null
          }
        },
        "884ece23e3184338be2edac148c6dfcc": {
          "model_module": "@jupyter-widgets/controls",
          "model_name": "ProgressStyleModel",
          "model_module_version": "1.5.0",
          "state": {
            "_model_module": "@jupyter-widgets/controls",
            "_model_module_version": "1.5.0",
            "_model_name": "ProgressStyleModel",
            "_view_count": null,
            "_view_module": "@jupyter-widgets/base",
            "_view_module_version": "1.2.0",
            "_view_name": "StyleView",
            "bar_color": null,
            "description_width": ""
          }
        },
        "4e6b2fe9cbb34f5396b471f409d12893": {
          "model_module": "@jupyter-widgets/base",
          "model_name": "LayoutModel",
          "model_module_version": "1.2.0",
          "state": {
            "_model_module": "@jupyter-widgets/base",
            "_model_module_version": "1.2.0",
            "_model_name": "LayoutModel",
            "_view_count": null,
            "_view_module": "@jupyter-widgets/base",
            "_view_module_version": "1.2.0",
            "_view_name": "LayoutView",
            "align_content": null,
            "align_items": null,
            "align_self": null,
            "border": null,
            "bottom": null,
            "display": null,
            "flex": null,
            "flex_flow": null,
            "grid_area": null,
            "grid_auto_columns": null,
            "grid_auto_flow": null,
            "grid_auto_rows": null,
            "grid_column": null,
            "grid_gap": null,
            "grid_row": null,
            "grid_template_areas": null,
            "grid_template_columns": null,
            "grid_template_rows": null,
            "height": null,
            "justify_content": null,
            "justify_items": null,
            "left": null,
            "margin": null,
            "max_height": null,
            "max_width": null,
            "min_height": null,
            "min_width": null,
            "object_fit": null,
            "object_position": null,
            "order": null,
            "overflow": null,
            "overflow_x": null,
            "overflow_y": null,
            "padding": null,
            "right": null,
            "top": null,
            "visibility": null,
            "width": null
          }
        },
        "b1638d299df3495096bd95c9c60e74db": {
          "model_module": "@jupyter-widgets/controls",
          "model_name": "DescriptionStyleModel",
          "model_module_version": "1.5.0",
          "state": {
            "_model_module": "@jupyter-widgets/controls",
            "_model_module_version": "1.5.0",
            "_model_name": "DescriptionStyleModel",
            "_view_count": null,
            "_view_module": "@jupyter-widgets/base",
            "_view_module_version": "1.2.0",
            "_view_name": "StyleView",
            "description_width": ""
          }
        }
      }
    }
  },
  "cells": [
    {
      "cell_type": "markdown",
      "metadata": {
        "id": "view-in-github",
        "colab_type": "text"
      },
      "source": [
        "<a href=\"https://colab.research.google.com/github/Altemir1/Process-Mining/blob/main/conformance_checking.ipynb\" target=\"_parent\"><img src=\"https://colab.research.google.com/assets/colab-badge.svg\" alt=\"Open In Colab\"/></a>"
      ]
    },
    {
      "cell_type": "code",
      "execution_count": null,
      "metadata": {
        "id": "p8X4lf8mbhhE"
      },
      "outputs": [],
      "source": [
        "log = \"\"\n",
        "\n",
        "with open(\"eventlog.txt\", \"r\") as file:\n",
        "  log = file.read()\n",
        "\n",
        "log"
      ]
    },
    {
      "cell_type": "code",
      "source": [
        "log = log.split('\\n')\n",
        "\n",
        "for i in range(len(log)):\n",
        "  trace = log[i].split(\" \")\n",
        "  log[i] = trace\n",
        "\n",
        "log"
      ],
      "metadata": {
        "id": "CkVdKEvQb2b-"
      },
      "execution_count": null,
      "outputs": []
    },
    {
      "cell_type": "code",
      "source": [
        "!pip install pm4py"
      ],
      "metadata": {
        "id": "_pagQJ-ZcEB9"
      },
      "execution_count": null,
      "outputs": []
    },
    {
      "cell_type": "code",
      "source": [
        "from pm4py.objects.log.obj import EventLog, Trace, Event\n",
        "\n",
        "def convert_to_event_log(traces):\n",
        "    log = EventLog()\n",
        "    for trace in traces:\n",
        "        t = Trace()\n",
        "        for idx, activity in enumerate(trace):\n",
        "            e = Event()\n",
        "            e[\"concept:name\"] = activity\n",
        "            e[\"time:timestamp\"] = idx\n",
        "            t.append(e)\n",
        "        log.append(t)\n",
        "    return log\n",
        "\n",
        "traces = log\n",
        "event_log = convert_to_event_log(traces)"
      ],
      "metadata": {
        "id": "ZEzWIab5cWcs"
      },
      "execution_count": 5,
      "outputs": []
    },
    {
      "cell_type": "code",
      "source": [
        "from pm4py.algo.discovery.alpha import algorithm as alpha_miner\n",
        "from pm4py.algo.conformance.tokenreplay import algorithm as token_replay\n",
        "import numpy as np\n",
        "\n",
        "\n",
        "net, initial_marking, final_marking = alpha_miner.apply(event_log)\n",
        "results = token_replay.apply(event_log, net, initial_marking, final_marking)\n",
        "\n",
        "# Extract and compute metrics\n",
        "trace_fitnesses = []\n",
        "missing_tokens = []\n",
        "consumed_tokens = []\n",
        "remaining_tokens = []\n",
        "produced_tokens = []\n",
        "\n",
        "for r in results:\n",
        "    trace_fitnesses.append(r['trace_fitness'])\n",
        "    missing_tokens.append(r['missing_tokens'])\n",
        "    consumed_tokens.append(r['consumed_tokens'])\n",
        "    remaining_tokens.append(r['remaining_tokens'])\n",
        "    produced_tokens.append(r['produced_tokens'])\n",
        "\n",
        "# Metrics\n",
        "tracefitness = np.mean(trace_fitnesses)\n",
        "eventfitness = 1 - (sum(missing_tokens) / sum(consumed_tokens)) if sum(consumed_tokens) > 0 else 0\n",
        "logfitness = 0.5 * (1 - (sum(missing_tokens) / sum(consumed_tokens))) + \\\n",
        "             0.5 * (1 - (sum(remaining_tokens) / sum(produced_tokens))) if sum(consumed_tokens) > 0 and sum(produced_tokens) > 0 else 0\n",
        "\n",
        "print(f\"Tracefitness: {tracefitness:.4f}\")\n",
        "print(f\"Eventfitness: {eventfitness:.4f}\")\n",
        "print(f\"Logfitness: {logfitness:.4f}\")"
      ],
      "metadata": {
        "colab": {
          "base_uri": "https://localhost:8080/",
          "height": 103,
          "referenced_widgets": [
            "2f16874706214b499556b5e1b8d5b8c4",
            "a93229b0a5904186b5782538d7c3dc26",
            "65874acb790e4d2b9ae379ac18f68ae9",
            "4bfb211063cc4ef784408c04ab03e032",
            "197843b0957b42cb87b282265c61458e",
            "2860957a60d549cf82fa483879916ce1",
            "1deb9ba5c23049f69cf17584a6f6d8da",
            "571a9ebb13dc4952b57e495eb38713e5",
            "884ece23e3184338be2edac148c6dfcc",
            "4e6b2fe9cbb34f5396b471f409d12893",
            "b1638d299df3495096bd95c9c60e74db"
          ]
        },
        "id": "zHqWP2LXcjQv",
        "outputId": "fe5de317-5fef-4587-96da-a462ea0d9d64"
      },
      "execution_count": 8,
      "outputs": [
        {
          "output_type": "display_data",
          "data": {
            "text/plain": [
              "replaying log with TBR, completed traces ::   0%|          | 0/19 [00:00<?, ?it/s]"
            ],
            "application/vnd.jupyter.widget-view+json": {
              "version_major": 2,
              "version_minor": 0,
              "model_id": "2f16874706214b499556b5e1b8d5b8c4"
            }
          },
          "metadata": {}
        },
        {
          "output_type": "stream",
          "name": "stdout",
          "text": [
            "Tracefitness: 0.8181\n",
            "Eventfitness: 0.8298\n",
            "Logfitness: 0.8298\n"
          ]
        }
      ]
    }
  ]
}