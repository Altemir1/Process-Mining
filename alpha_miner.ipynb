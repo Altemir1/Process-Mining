{
  "nbformat": 4,
  "nbformat_minor": 0,
  "metadata": {
    "colab": {
      "provenance": [],
      "authorship_tag": "ABX9TyOkxolpOkFj3yU56G//1hlX",
      "include_colab_link": true
    },
    "kernelspec": {
      "name": "python3",
      "display_name": "Python 3"
    },
    "language_info": {
      "name": "python"
    }
  },
  "cells": [
    {
      "cell_type": "markdown",
      "metadata": {
        "id": "view-in-github",
        "colab_type": "text"
      },
      "source": [
        "<a href=\"https://colab.research.google.com/github/Altemir1/Process-Mining/blob/main/alpha_miner.ipynb\" target=\"_parent\"><img src=\"https://colab.research.google.com/assets/colab-badge.svg\" alt=\"Open In Colab\"/></a>"
      ]
    },
    {
      "cell_type": "markdown",
      "source": [
        "Loading event log"
      ],
      "metadata": {
        "id": "HiLz5fihNPOr"
      }
    },
    {
      "cell_type": "code",
      "execution_count": 5,
      "metadata": {
        "colab": {
          "base_uri": "https://localhost:8080/"
        },
        "id": "QzHD4cmZLK74",
        "outputId": "54b9a925-8df4-45e6-b171-2590226448ea"
      },
      "outputs": [
        {
          "output_type": "stream",
          "name": "stdout",
          "text": [
            "645\n"
          ]
        }
      ],
      "source": [
        "log = \"\"\n",
        "file_name = \"log2.txt\"\n",
        "\n",
        "with open(file_name, \"r\") as file:\n",
        "  log = file.read()\n",
        "\n",
        "print(len(log))"
      ]
    },
    {
      "cell_type": "code",
      "source": [
        "log_list = log.split(\"\\n\")\n",
        "len(log_list)"
      ],
      "metadata": {
        "colab": {
          "base_uri": "https://localhost:8080/"
        },
        "id": "4ovr3xBMMSW5",
        "outputId": "62629d55-85f8-4f83-e3d3-5aa01a80ca4d"
      },
      "execution_count": 6,
      "outputs": [
        {
          "output_type": "execute_result",
          "data": {
            "text/plain": [
              "50"
            ]
          },
          "metadata": {},
          "execution_count": 6
        }
      ]
    },
    {
      "cell_type": "code",
      "source": [
        "for i in range(len(log_list)):\n",
        "  split_event = log_list[i].split(\" \")\n",
        "  log_list[i] = split_event\n",
        "\n",
        "log_list[0]"
      ],
      "metadata": {
        "colab": {
          "base_uri": "https://localhost:8080/"
        },
        "id": "gjUK1YW_Mhgc",
        "outputId": "2ce23e27-9bce-4033-e2ee-d940cdfdf0f3"
      },
      "execution_count": 10,
      "outputs": [
        {
          "output_type": "execute_result",
          "data": {
            "text/plain": [
              "['A', 'B', 'E', 'G', 'F', 'H']"
            ]
          },
          "metadata": {},
          "execution_count": 10
        }
      ]
    },
    {
      "cell_type": "markdown",
      "source": [
        "Extracting direct successions"
      ],
      "metadata": {
        "id": "8E3t4CelNSFc"
      }
    },
    {
      "cell_type": "code",
      "source": [
        "from collections import defaultdict\n",
        "\n",
        "direct_succession = set()\n",
        "all_activities = set()\n",
        "\n",
        "for trace in log_list:\n",
        "  all_activities.update(trace)\n",
        "  for i in range(len(trace) - 1):\n",
        "    a, b = trace[i], trace[i+1]\n",
        "    direct_succession.add((a, b))\n",
        "\n",
        "print(len(direct_succession))\n",
        "print(len(all_activities))"
      ],
      "metadata": {
        "colab": {
          "base_uri": "https://localhost:8080/"
        },
        "id": "wNYoGSu2MqHZ",
        "outputId": "501c880a-f3ac-44e6-943a-4d7af047ab95"
      },
      "execution_count": 13,
      "outputs": [
        {
          "output_type": "stream",
          "name": "stdout",
          "text": [
            "11\n",
            "8\n"
          ]
        }
      ]
    },
    {
      "cell_type": "markdown",
      "source": [
        "Build relation matrix"
      ],
      "metadata": {
        "id": "37O0YgNIN_2j"
      }
    },
    {
      "cell_type": "code",
      "source": [
        "relation_matrix = defaultdict(str)\n",
        "\n",
        "for a in all_activities:\n",
        "  for b in all_activities:\n",
        "    if (a,b) in direct_succession and (b,a) not in direct_succession:\n",
        "      relation_matrix[(a, b)] = \"->\"\n",
        "    elif (a,b) in direct_succession and (b,a) in direct_succession:\n",
        "      relation_matrix[(a, b)] = \"||\"\n",
        "    elif (a,b) not in direct_succession and (b,a) not in direct_succession:\n",
        "      relation_matrix[(a,b)] = \"#\"\n",
        "    elif (a,b) not in direct_succession and (b,a) in direct_succession:\n",
        "      relation_matrix[(a,b)] = \"<-\""
      ],
      "metadata": {
        "id": "-t_OGoT_N0G-"
      },
      "execution_count": 19,
      "outputs": []
    },
    {
      "cell_type": "markdown",
      "source": [
        "Print relation matrix"
      ],
      "metadata": {
        "id": "xAZ0hrsZO4Da"
      }
    },
    {
      "cell_type": "code",
      "source": [
        "activities = sorted(all_activities)\n",
        "print(\"    \" + \"  \".join(activities))\n",
        "for a in activities:\n",
        "    row = [a]\n",
        "    for b in activities:\n",
        "        row.append(relation_matrix.get((a, b), \"\"))\n",
        "    print(\"  \".join(row))"
      ],
      "metadata": {
        "colab": {
          "base_uri": "https://localhost:8080/"
        },
        "id": "jYplsJG8OwHD",
        "outputId": "3cf494af-bff9-47ab-b091-7155839a90b5"
      },
      "execution_count": 20,
      "outputs": [
        {
          "output_type": "stream",
          "name": "stdout",
          "text": [
            "    A  B  C  D  E  F  G  H\n",
            "A  #  ->  ->  #  #  #  #  #\n",
            "B  <-  #  #  #  ->  #  #  #\n",
            "C  <-  #  #  ->  #  #  #  #\n",
            "D  #  #  <-  #  ->  #  #  #\n",
            "E  #  <-  #  <-  #  ->  ->  #\n",
            "F  #  #  #  #  <-  #  ||  ->\n",
            "G  #  #  #  #  <-  ||  #  ->\n",
            "H  #  #  #  #  #  <-  <-  #\n"
          ]
        }
      ]
    },
    {
      "cell_type": "code",
      "source": [
        "!pip install pm4py"
      ],
      "metadata": {
        "colab": {
          "base_uri": "https://localhost:8080/"
        },
        "id": "4eVcZhygQhbp",
        "outputId": "5877c50f-e3aa-4cef-a689-fea01a647167"
      },
      "execution_count": 22,
      "outputs": [
        {
          "output_type": "stream",
          "name": "stdout",
          "text": [
            "Collecting pm4py\n",
            "  Downloading pm4py-2.7.15.2-py3-none-any.whl.metadata (4.8 kB)\n",
            "Requirement already satisfied: numpy in /usr/local/lib/python3.11/dist-packages (from pm4py) (2.0.2)\n",
            "Requirement already satisfied: pandas in /usr/local/lib/python3.11/dist-packages (from pm4py) (2.2.2)\n",
            "Collecting deprecation (from pm4py)\n",
            "  Downloading deprecation-2.1.0-py2.py3-none-any.whl.metadata (4.6 kB)\n",
            "Requirement already satisfied: networkx in /usr/local/lib/python3.11/dist-packages (from pm4py) (3.4.2)\n",
            "Requirement already satisfied: graphviz in /usr/local/lib/python3.11/dist-packages (from pm4py) (0.20.3)\n",
            "Requirement already satisfied: wheel in /usr/local/lib/python3.11/dist-packages (from pm4py) (0.45.1)\n",
            "Requirement already satisfied: setuptools in /usr/local/lib/python3.11/dist-packages (from pm4py) (75.2.0)\n",
            "Collecting intervaltree (from pm4py)\n",
            "  Downloading intervaltree-3.1.0.tar.gz (32 kB)\n",
            "  Preparing metadata (setup.py) ... \u001b[?25l\u001b[?25hdone\n",
            "Requirement already satisfied: lxml in /usr/local/lib/python3.11/dist-packages (from pm4py) (5.4.0)\n",
            "Requirement already satisfied: matplotlib in /usr/local/lib/python3.11/dist-packages (from pm4py) (3.10.0)\n",
            "Requirement already satisfied: pydotplus in /usr/local/lib/python3.11/dist-packages (from pm4py) (2.0.2)\n",
            "Requirement already satisfied: pytz in /usr/local/lib/python3.11/dist-packages (from pm4py) (2025.2)\n",
            "Requirement already satisfied: scipy in /usr/local/lib/python3.11/dist-packages (from pm4py) (1.15.3)\n",
            "Requirement already satisfied: tqdm in /usr/local/lib/python3.11/dist-packages (from pm4py) (4.67.1)\n",
            "Requirement already satisfied: cvxopt in /usr/local/lib/python3.11/dist-packages (from pm4py) (1.3.2)\n",
            "Requirement already satisfied: packaging in /usr/local/lib/python3.11/dist-packages (from deprecation->pm4py) (24.2)\n",
            "Requirement already satisfied: sortedcontainers<3.0,>=2.0 in /usr/local/lib/python3.11/dist-packages (from intervaltree->pm4py) (2.4.0)\n",
            "Requirement already satisfied: contourpy>=1.0.1 in /usr/local/lib/python3.11/dist-packages (from matplotlib->pm4py) (1.3.2)\n",
            "Requirement already satisfied: cycler>=0.10 in /usr/local/lib/python3.11/dist-packages (from matplotlib->pm4py) (0.12.1)\n",
            "Requirement already satisfied: fonttools>=4.22.0 in /usr/local/lib/python3.11/dist-packages (from matplotlib->pm4py) (4.58.0)\n",
            "Requirement already satisfied: kiwisolver>=1.3.1 in /usr/local/lib/python3.11/dist-packages (from matplotlib->pm4py) (1.4.8)\n",
            "Requirement already satisfied: pillow>=8 in /usr/local/lib/python3.11/dist-packages (from matplotlib->pm4py) (11.2.1)\n",
            "Requirement already satisfied: pyparsing>=2.3.1 in /usr/local/lib/python3.11/dist-packages (from matplotlib->pm4py) (3.2.3)\n",
            "Requirement already satisfied: python-dateutil>=2.7 in /usr/local/lib/python3.11/dist-packages (from matplotlib->pm4py) (2.9.0.post0)\n",
            "Requirement already satisfied: tzdata>=2022.7 in /usr/local/lib/python3.11/dist-packages (from pandas->pm4py) (2025.2)\n",
            "Requirement already satisfied: six>=1.5 in /usr/local/lib/python3.11/dist-packages (from python-dateutil>=2.7->matplotlib->pm4py) (1.17.0)\n",
            "Downloading pm4py-2.7.15.2-py3-none-any.whl (2.1 MB)\n",
            "\u001b[2K   \u001b[90m━━━━━━━━━━━━━━━━━━━━━━━━━━━━━━━━━━━━━━━━\u001b[0m \u001b[32m2.1/2.1 MB\u001b[0m \u001b[31m31.1 MB/s\u001b[0m eta \u001b[36m0:00:00\u001b[0m\n",
            "\u001b[?25hDownloading deprecation-2.1.0-py2.py3-none-any.whl (11 kB)\n",
            "Building wheels for collected packages: intervaltree\n",
            "  Building wheel for intervaltree (setup.py) ... \u001b[?25l\u001b[?25hdone\n",
            "  Created wheel for intervaltree: filename=intervaltree-3.1.0-py2.py3-none-any.whl size=26098 sha256=336a43ba4ddabec04a96fdea1bea077632842a8207e3437918d2a197c28d3b9b\n",
            "  Stored in directory: /root/.cache/pip/wheels/31/d7/d9/eec6891f78cac19a693bd40ecb8365d2f4613318c145ec9816\n",
            "Successfully built intervaltree\n",
            "Installing collected packages: intervaltree, deprecation, pm4py\n",
            "Successfully installed deprecation-2.1.0 intervaltree-3.1.0 pm4py-2.7.15.2\n"
          ]
        }
      ]
    },
    {
      "cell_type": "code",
      "source": [
        "from pm4py.objects.log.obj import EventLog, Trace, Event\n",
        "from pm4py.algo.discovery.alpha import algorithm as alpha_miner\n",
        "from pm4py.visualization.petri_net import visualizer as pn_visualizer\n",
        "\n",
        "\n",
        "# Convert to pm4py EventLog object\n",
        "log = EventLog()\n",
        "for trace in log_list:\n",
        "    t = Trace()\n",
        "    for activity in trace:\n",
        "        t.append(Event({\"concept:name\": activity}))\n",
        "    log.append(t)\n",
        "\n",
        "# Apply the Alpha Miner algorithm\n",
        "net, initial_marking, final_marking = alpha_miner.apply(log)\n",
        "\n",
        "# Visualize the Petri net\n",
        "gviz = pn_visualizer.apply(net, initial_marking, final_marking)\n",
        "pn_visualizer.view(gviz)"
      ],
      "metadata": {
        "colab": {
          "base_uri": "https://localhost:8080/",
          "height": 662
        },
        "id": "PidKUAxRQWHc",
        "outputId": "5a54e8a4-698b-4ec3-9785-7ce64f2f0047"
      },
      "execution_count": 23,
      "outputs": [
        {
          "output_type": "stream",
          "name": "stderr",
          "text": [
            "/usr/local/lib/python3.11/dist-packages/cudf/utils/_ptxcompiler.py:64: UserWarning: Error getting driver and runtime versions:\n",
            "\n",
            "stdout:\n",
            "\n",
            "\n",
            "\n",
            "stderr:\n",
            "\n",
            "Traceback (most recent call last):\n",
            "  File \"<string>\", line 4, in <module>\n",
            "  File \"/usr/local/lib/python3.11/dist-packages/numba_cuda/numba/cuda/cudadrv/driver.py\", line 314, in __getattr__\n",
            "    raise CudaSupportError(\"Error at driver init: \\n%s:\" %\n",
            "numba.cuda.cudadrv.error.CudaSupportError: Error at driver init: \n",
            "\n",
            "CUDA driver library cannot be found.\n",
            "If you are sure that a CUDA driver is installed,\n",
            "try setting environment variable NUMBA_CUDA_DRIVER\n",
            "with the file path of the CUDA driver shared library.\n",
            ":\n",
            "\n",
            "\n",
            "Not patching Numba\n",
            "  warnings.warn(msg, UserWarning)\n",
            "/usr/local/lib/python3.11/dist-packages/cudf/utils/gpu_utils.py:62: UserWarning: Failed to dlopen libcuda.so.1\n",
            "  warnings.warn(str(e))\n"
          ]
        },
        {
          "output_type": "display_data",
          "data": {
            "image/png": "[encoded data removed]",
            "text/plain": [
              "<IPython.core.display.Image object>"
            ]
          },
          "metadata": {}
        }
      ]
    }
  ]
}